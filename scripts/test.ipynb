{
 "cells": [
  {
   "cell_type": "code",
   "execution_count": 1,
   "metadata": {},
   "outputs": [],
   "source": [
    "maze = [[1,0,1,1,1,1,1,1,1,1,1,1,1,1,1,1,1,1,1],\n",
    "        [1,0,1,0,0,0,0,0,0,0,0,0,0,0,0,0,0,0,1],\n",
    "        [1,0,1,0,1,1,1,1,1,0,1,1,1,1,1,1,1,1,1],\n",
    "        [1,0,0,0,1,0,0,0,1,0,0,0,0,0,0,0,0,0,1],\n",
    "        [1,0,1,1,1,0,1,0,1,1,1,1,1,1,1,0,1,0,1],\n",
    "        [1,0,1,0,0,0,1,0,1,0,0,0,0,0,1,0,1,0,1],\n",
    "        [1,0,1,1,1,0,1,0,1,1,1,1,1,0,1,1,1,0,1],\n",
    "        [1,0,0,0,1,0,1,0,0,0,0,0,0,0,1,0,0,0,1],\n",
    "        [1,1,1,0,1,0,1,0,1,0,1,0,1,0,1,0,1,0,1],\n",
    "        [1,0,0,0,1,0,1,1,1,0,1,0,1,0,1,0,1,0,1],\n",
    "        [1,1,1,0,1,0,0,0,1,0,1,0,1,0,1,0,1,0,1],\n",
    "        [1,0,0,0,1,0,1,0,1,0,1,0,1,0,0,0,1,0,1],\n",
    "        [1,0,1,1,1,1,1,0,1,0,1,1,1,1,1,1,1,1,1],\n",
    "        [1,0,0,0,0,0,1,0,1,0,1,0,0,0,0,0,0,0,1],\n",
    "        [1,1,1,1,1,0,1,0,1,0,1,0,1,1,1,1,1,0,1],\n",
    "        [1,0,0,0,1,0,1,0,1,0,0,0,1,0,0,0,1,0,1],\n",
    "        [1,0,1,1,1,0,1,0,1,1,1,1,1,0,1,0,1,0,1],\n",
    "        [1,0,0,0,0,0,0,0,0,0,0,0,0,0,1,0,1,0,1],\n",
    "        [1,1,1,1,1,1,1,1,1,1,1,1,1,1,1,1,1,0,1]]"
   ]
  },
  {
   "cell_type": "code",
   "execution_count": 31,
   "metadata": {},
   "outputs": [],
   "source": [
    "maze = [[1, 0, 1, 1, 1, 1, 1, 1, 1, 1],\n",
    "        [1, 0, 0, 0, 1, 0, 0, 0, 0, 1],\n",
    "        [1, 0, 0, 0, 1, 0, 0, 0, 0, 1],\n",
    "        [1, 0, 0, 0, 1, 0, 0, 0, 0, 1],\n",
    "        [1, 0, 0, 0, 0, 0, 0, 0, 0, 1],\n",
    "        [1, 0, 0, 0, 0, 0, 0, 0, 0, 1],\n",
    "        [1, 0, 0, 0, 1, 0, 0, 0, 0, 1],\n",
    "        [1, 0, 0, 0, 1, 0, 0, 0, 0, 1],\n",
    "        [1, 0, 0, 0, 0, 0, 0, 0, 0, 1],\n",
    "        [1, 1, 1, 1, 1, 1, 1, 1, 0, 1]]\n",
    "\n",
    "from maze import Maze\n",
    "from algorithm.breadthfirst import BFS\n",
    "from algorithm.depthfirst import DFS\n",
    "from algorithm.djikstra import Djikstra\n",
    "from algorithm.astar import AStar\n",
    "\n",
    "m = Maze(maze)\n",
    "algorithm = BFS(m)"
   ]
  },
  {
   "cell_type": "code",
   "execution_count": 32,
   "metadata": {},
   "outputs": [
    {
     "name": "stdout",
     "output_type": "stream",
     "text": [
      "([(0, 1), (1, 1), (2, 1), (3, 1), (4, 1), (5, 1), (6, 1), (7, 1), (8, 1), (8, 2), (8, 3), (8, 4), (8, 5), (8, 6), (8, 7), (8, 8), (9, 8)], 4006, 17, True)\n"
     ]
    }
   ],
   "source": [
    "print(algorithm.solve())"
   ]
  },
  {
   "cell_type": "code",
   "execution_count": 15,
   "metadata": {},
   "outputs": [
    {
     "data": {
      "text/plain": [
       "False"
      ]
     },
     "execution_count": 15,
     "metadata": {},
     "output_type": "execute_result"
    }
   ],
   "source": [
    "from collections import deque\n",
    "\n",
    "stack = deque()\n",
    "\n",
    "stack.append(0)\n",
    "stack.append(1)\n",
    "\n",
    "a = [None, None, None]\n",
    "\n",
    "any(a)"
   ]
  },
  {
   "cell_type": "code",
   "execution_count": 16,
   "metadata": {},
   "outputs": [
    {
     "data": {
      "text/plain": [
       "1"
      ]
     },
     "execution_count": 16,
     "metadata": {},
     "output_type": "execute_result"
    }
   ],
   "source": [
    "from queue import PriorityQueue\n",
    "from maze import Maze\n",
    "import heapq\n",
    "\n",
    "a  = PriorityQueue()\n",
    "a.put((0, Maze.Node((1,2))))\n",
    "a.put_nowait((1, Maze.Node((2,2))))\n"
   ]
  },
  {
   "cell_type": "code",
   "execution_count": 6,
   "metadata": {},
   "outputs": [],
   "source": [
    "import heapq\n",
    "from maze import Maze\n",
    "from algorithm.heapPQ import HeapPQ, HeapNode\n",
    "\n",
    "a = HeapPQ()\n",
    "# node1 = HeapNode(Maze.Node((1,1)),1)\n",
    "# node2 = HeapNode(Maze.Node((2,2)),2)\n",
    "# node3 = HeapNode(Maze.Node((3,3)),3)\n",
    "\n",
    "b = []\n",
    "entry = (1, Maze.Node((1,1)))\n",
    "entry2 = (1, Maze.Node((2,2)))\n",
    "\n",
    "# a.insert(node1)\n",
    "# a.insert(node2)\n",
    "# a.insert(node1)"
   ]
  },
  {
   "cell_type": "code",
   "execution_count": 7,
   "metadata": {},
   "outputs": [
    {
     "data": {
      "text/plain": [
       "[(1, <maze.Maze.Node at 0x1078e0c10>), (1, <maze.Maze.Node at 0x107dafe20>)]"
      ]
     },
     "execution_count": 7,
     "metadata": {},
     "output_type": "execute_result"
    }
   ],
   "source": [
    "heapq.heappush(b, entry)\n",
    "heapq.heappush(b, entry2)\n",
    "b"
   ]
  },
  {
   "cell_type": "code",
   "execution_count": 5,
   "metadata": {},
   "outputs": [
    {
     "data": {
      "text/plain": [
       "True"
      ]
     },
     "execution_count": 5,
     "metadata": {},
     "output_type": "execute_result"
    }
   ],
   "source": [
    "(1,2) < (2,1)"
   ]
  },
  {
   "cell_type": "code",
   "execution_count": null,
   "metadata": {},
   "outputs": [],
   "source": []
  }
 ],
 "metadata": {
  "interpreter": {
   "hash": "394231bcd7c367a06f3a95be8594bcb8c56fa7fd95ba207d4bdc48f2f8509567"
  },
  "kernelspec": {
   "display_name": "Python 3.9.7 ('base')",
   "language": "python",
   "name": "python3"
  },
  "language_info": {
   "codemirror_mode": {
    "name": "ipython",
    "version": 3
   },
   "file_extension": ".py",
   "mimetype": "text/x-python",
   "name": "python",
   "nbconvert_exporter": "python",
   "pygments_lexer": "ipython3",
   "version": "3.9.7"
  },
  "orig_nbformat": 4
 },
 "nbformat": 4,
 "nbformat_minor": 2
}
