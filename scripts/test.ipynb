{
 "cells": [
  {
   "cell_type": "code",
   "execution_count": 34,
   "metadata": {},
   "outputs": [],
   "source": [
    "maze = [[1,0,1,1,1,1,1,1,1,1,1,1,1,1,1,1,1,1,1],\n",
    "        [1,0,1,0,0,0,0,0,0,0,0,0,0,0,0,0,0,0,1],\n",
    "        [1,0,1,0,1,1,1,0,1,0,1,1,1,1,1,1,1,1,1],\n",
    "        [1,0,0,0,1,0,0,0,1,0,0,0,0,0,0,0,0,0,1],\n",
    "        [1,0,1,1,1,0,1,1,1,1,1,1,1,1,1,0,1,0,1],\n",
    "        [1,0,1,0,0,0,1,0,0,0,0,0,0,0,1,0,1,0,1],\n",
    "        [1,0,1,1,1,1,1,0,1,1,1,1,1,0,1,1,1,0,1],\n",
    "        [1,0,0,0,1,0,0,0,0,0,0,0,1,0,1,0,0,0,1],\n",
    "        [1,1,1,0,1,0,1,1,1,1,1,0,1,0,1,0,1,0,1],\n",
    "        [1,0,0,0,1,0,1,0,0,0,1,0,1,0,1,0,1,0,1],\n",
    "        [1,1,1,0,1,0,1,0,1,0,1,0,1,0,1,0,1,0,1],\n",
    "        [1,0,0,0,1,0,0,0,1,0,1,0,1,0,0,0,1,0,1],\n",
    "        [1,0,1,1,1,1,1,0,1,0,1,1,1,1,1,1,1,1,1],\n",
    "        [1,0,0,0,0,0,0,0,1,0,1,0,0,0,0,0,0,0,1],\n",
    "        [1,1,1,1,1,0,1,0,1,0,1,0,1,1,1,1,1,0,1],\n",
    "        [1,0,0,0,1,0,1,0,1,0,0,0,1,0,0,0,1,0,1],\n",
    "        [1,0,1,1,1,0,1,0,1,1,1,1,1,0,1,0,1,0,1],\n",
    "        [1,0,0,0,0,0,1,0,0,0,0,0,0,0,1,0,1,0,1],\n",
    "        [1,1,1,1,1,1,1,1,1,1,1,1,1,1,1,1,1,0,1]]"
   ]
  },
  {
   "cell_type": "code",
   "execution_count": 35,
   "metadata": {},
   "outputs": [],
   "source": [
    "from maze import Maze\n",
    "\n",
    "m = Maze(maze)"
   ]
  },
  {
   "cell_type": "code",
   "execution_count": 37,
   "metadata": {},
   "outputs": [
    {
     "data": {
      "text/plain": [
       "[<maze.Maze.Node at 0x114bff6d0>, None, None, None]"
      ]
     },
     "execution_count": 37,
     "metadata": {},
     "output_type": "execute_result"
    }
   ],
   "source": [
    "m.end.neighbours"
   ]
  },
  {
   "cell_type": "code",
   "execution_count": 6,
   "metadata": {},
   "outputs": [
    {
     "data": {
      "text/plain": [
       "(0, -1)"
      ]
     },
     "execution_count": 6,
     "metadata": {},
     "output_type": "execute_result"
    }
   ],
   "source": [
    "m.start.get_neighbours()[0].get_neighbours()[0].Position"
   ]
  },
  {
   "cell_type": "code",
   "execution_count": 14,
   "metadata": {},
   "outputs": [
    {
     "data": {
      "text/plain": [
       "deque([(1, 2, 0), (1, 2, 1)])"
      ]
     },
     "execution_count": 14,
     "metadata": {},
     "output_type": "execute_result"
    }
   ],
   "source": [
    "from collections import deque\n",
    "a = (1,2)\n",
    "queue = deque([a+(0,)])\n",
    "queue.append(a+(1,))\n",
    "queue"
   ]
  },
  {
   "cell_type": "code",
   "execution_count": 45,
   "metadata": {},
   "outputs": [
    {
     "data": {
      "text/plain": [
       "0"
      ]
     },
     "execution_count": 45,
     "metadata": {},
     "output_type": "execute_result"
    }
   ],
   "source": [
    "\n",
    "\n",
    "\n",
    "# maze = Maze(data)\n",
    "\n",
    "# maze.end.Position\n",
    "# maze.start.Neighbours[2].Neighbours[3].Neighbours[2].Position\n"
   ]
  },
  {
   "cell_type": "code",
   "execution_count": null,
   "metadata": {},
   "outputs": [],
   "source": [
    "from collections import deque\n",
    "\n",
    "# queue = deque([maze.start])\n"
   ]
  }
 ],
 "metadata": {
  "interpreter": {
   "hash": "394231bcd7c367a06f3a95be8594bcb8c56fa7fd95ba207d4bdc48f2f8509567"
  },
  "kernelspec": {
   "display_name": "Python 3.9.7 ('base')",
   "language": "python",
   "name": "python3"
  },
  "language_info": {
   "codemirror_mode": {
    "name": "ipython",
    "version": 3
   },
   "file_extension": ".py",
   "mimetype": "text/x-python",
   "name": "python",
   "nbconvert_exporter": "python",
   "pygments_lexer": "ipython3",
   "version": "3.9.7"
  },
  "orig_nbformat": 4
 },
 "nbformat": 4,
 "nbformat_minor": 2
}
