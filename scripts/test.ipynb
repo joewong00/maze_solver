{
 "cells": [
  {
   "cell_type": "code",
   "execution_count": 1,
   "metadata": {},
   "outputs": [],
   "source": [
    "maze = [[1,0,1,1,1,1,1,1,1,1,1,1,1,1,1,1,1,1,1],\n",
    "        [1,0,1,0,0,0,0,0,0,0,0,0,0,0,0,0,0,0,1],\n",
    "        [1,0,1,0,1,1,1,0,1,0,1,1,1,1,1,1,1,1,1],\n",
    "        [1,0,0,0,1,0,0,0,1,0,0,0,0,0,0,0,0,0,1],\n",
    "        [1,0,1,1,1,0,1,1,1,1,1,1,1,1,1,0,1,0,1],\n",
    "        [1,0,1,0,0,0,1,0,0,0,0,0,0,0,1,0,1,0,1],\n",
    "        [1,0,1,1,1,1,1,0,1,1,1,1,1,0,1,1,1,0,1],\n",
    "        [1,0,0,0,1,0,0,0,0,0,0,0,1,0,1,0,0,0,1],\n",
    "        [1,1,1,0,1,0,1,1,1,1,1,0,1,0,1,0,1,0,1],\n",
    "        [1,0,0,0,1,0,1,0,0,0,1,0,1,0,1,0,1,0,1],\n",
    "        [1,1,1,0,1,0,1,0,1,0,1,0,1,0,1,0,1,0,1],\n",
    "        [1,0,0,0,1,0,0,0,1,0,1,0,1,0,0,0,1,0,1],\n",
    "        [1,0,1,1,1,1,1,0,1,0,1,1,1,1,1,1,1,1,1],\n",
    "        [1,0,0,0,0,0,0,0,1,0,1,0,0,0,0,0,0,0,1],\n",
    "        [1,1,1,1,1,0,1,0,1,0,1,0,1,1,1,1,1,0,1],\n",
    "        [1,0,0,0,1,0,1,0,1,0,0,0,1,0,0,0,1,0,1],\n",
    "        [1,0,1,1,1,0,1,0,1,1,1,1,1,0,1,0,1,0,1],\n",
    "        [1,0,0,0,0,0,1,0,0,0,0,0,0,0,1,0,1,0,1],\n",
    "        [1,1,1,1,1,1,1,1,1,1,1,1,1,1,1,1,1,0,1]]"
   ]
  },
  {
   "cell_type": "code",
   "execution_count": 9,
   "metadata": {},
   "outputs": [],
   "source": [
    "from maze import Maze\n",
    "from algorithm.breadthfirst import BFS\n",
    "from algorithm.depthfirst import DFS\n",
    "\n",
    "m = Maze(maze)\n",
    "algorithm = DFS(m)"
   ]
  },
  {
   "cell_type": "code",
   "execution_count": 10,
   "metadata": {},
   "outputs": [
    {
     "name": "stdout",
     "output_type": "stream",
     "text": [
      "([(0, 1), (1, 1), (2, 1), (3, 1), (4, 1), (5, 1), (6, 1), (7, 1), (7, 2), (7, 3), (8, 3), (9, 3), (10, 3), (11, 3), (11, 2), (11, 1), (12, 1), (13, 1), (13, 2), (13, 3), (13, 4), (13, 5), (13, 6), (13, 7), (12, 7), (11, 7), (10, 7), (9, 7), (9, 8), (9, 9), (10, 9), (11, 9), (12, 9), (13, 9), (14, 9), (15, 9), (15, 10), (15, 11), (14, 11), (13, 11), (13, 12), (13, 13), (13, 14), (13, 15), (13, 16), (13, 17), (14, 17), (15, 17), (16, 17), (17, 17), (18, 17)], 164, 51, True)\n"
     ]
    }
   ],
   "source": [
    "print(algorithm.solve())"
   ]
  },
  {
   "cell_type": "code",
   "execution_count": 15,
   "metadata": {},
   "outputs": [
    {
     "data": {
      "text/plain": [
       "False"
      ]
     },
     "execution_count": 15,
     "metadata": {},
     "output_type": "execute_result"
    }
   ],
   "source": [
    "from collections import deque\n",
    "\n",
    "stack = deque()\n",
    "\n",
    "stack.append(0)\n",
    "stack.append(1)\n",
    "\n",
    "a = [None, None, None]\n",
    "\n",
    "any(a)"
   ]
  },
  {
   "cell_type": "code",
   "execution_count": null,
   "metadata": {},
   "outputs": [],
   "source": []
  }
 ],
 "metadata": {
  "interpreter": {
   "hash": "394231bcd7c367a06f3a95be8594bcb8c56fa7fd95ba207d4bdc48f2f8509567"
  },
  "kernelspec": {
   "display_name": "Python 3.9.7 ('base')",
   "language": "python",
   "name": "python3"
  },
  "language_info": {
   "codemirror_mode": {
    "name": "ipython",
    "version": 3
   },
   "file_extension": ".py",
   "mimetype": "text/x-python",
   "name": "python",
   "nbconvert_exporter": "python",
   "pygments_lexer": "ipython3",
   "version": "3.9.7"
  },
  "orig_nbformat": 4
 },
 "nbformat": 4,
 "nbformat_minor": 2
}
